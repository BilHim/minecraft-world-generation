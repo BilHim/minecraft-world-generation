{
 "cells": [
  {
   "cell_type": "code",
   "execution_count": 13,
   "metadata": {},
   "outputs": [],
   "source": [
    "from PIL import Image, ImageDraw\n",
    "from matplotlib import pyplot as plt\n",
    "import numpy as np\n",
    "from scipy.spatial import cKDTree"
   ]
  },
  {
   "cell_type": "code",
   "execution_count": 51,
   "metadata": {},
   "outputs": [],
   "source": [
    "from scipy.spatial import Voronoi\n",
    "from skimage.draw import polygon\n",
    "import random\n",
    "\n",
    "def voronoi(points, size):\n",
    "    # Add points at edges to eliminate infinite ridges\n",
    "    edge_points = size*np.array([[-1, -1], [-1, 2], [2, -1], [2, 2]])\n",
    "    new_points = np.vstack([points, edge_points])\n",
    "    \n",
    "    # Calculate Voronoi tessellation\n",
    "    vor = Voronoi(new_points)    \n",
    "    return vor"
   ]
  },
  {
   "cell_type": "code",
   "execution_count": 74,
   "metadata": {},
   "outputs": [],
   "source": [
    "width = height = size = 3600\n",
    "n = 384\n",
    "\n",
    "x = np.random.randint(0, width, (n,))\n",
    "y = np.random.randint(0, height, (n,))\n",
    "\n",
    "points = np.vstack([x, y]).T\n",
    "\n",
    "cyan = (12, 236, 221)\n",
    "yellow = (255, 243, 56)\n",
    "pink = (196, 0, 255)\n",
    "magenta = (255, 103, 231)"
   ]
  },
  {
   "cell_type": "code",
   "execution_count": 75,
   "metadata": {},
   "outputs": [],
   "source": [
    "new_points = points.copy()\n",
    "\n",
    "for k in range(100):\n",
    "    vor = voronoi(new_points, size)\n",
    "\n",
    "    im = Image.new('RGB', (width, height), (255, 255, 255))\n",
    "    draw = ImageDraw.Draw(im)\n",
    "\n",
    "    for i, point in enumerate(new_points):\n",
    "        circle_size = np.array([20, 20])\n",
    "        p1 = point - circle_size/2\n",
    "        p2 = point + circle_size/2\n",
    "        draw.ellipse((*p1, *p2), fill=(0, 0, 255))\n",
    "\n",
    "    new_points = []\n",
    "\n",
    "    for i, region in enumerate(vor.regions):\n",
    "        if len(region) == 0 or -1 in region: continue\n",
    "        poly = np.array([vor.vertices[i] for i in region])\n",
    "        \n",
    "        for i in range(len(poly)):\n",
    "            draw.line((*poly[-i], *poly[-i-1]), fill=(50, 50 ,50), width=5)\n",
    "\n",
    "        center = poly.mean(axis=0)\n",
    "        new_points.append(center)\n",
    "\n",
    "        circle_size = np.array([20, 20])\n",
    "        p1 = center - circle_size/2\n",
    "        p2 = center + circle_size/2\n",
    "        draw.ellipse((*p1, *p2), fill=(255, 0, 0))\n",
    "\n",
    "    new_points = np.array(new_points).clip(0, size)\n",
    "\n",
    "    im = im.crop((200, 1000, 3400, 2600))\n",
    "    im = im.resize((800, 400), resample=Image.ANTIALIAS)\n",
    "    im.save(f\"figure_4/out_{k}.png\")"
   ]
  },
  {
   "cell_type": "code",
   "execution_count": null,
   "metadata": {},
   "outputs": [],
   "source": []
  }
 ],
 "metadata": {
  "interpreter": {
   "hash": "3dfc80072e7d49307d6eca4bdfdfec1fdacb402a65d8ee3b3f38719db78321e3"
  },
  "kernelspec": {
   "display_name": "Python 3.8.8 64-bit ('base': conda)",
   "name": "python3"
  },
  "language_info": {
   "codemirror_mode": {
    "name": "ipython",
    "version": 3
   },
   "file_extension": ".py",
   "mimetype": "text/x-python",
   "name": "python",
   "nbconvert_exporter": "python",
   "pygments_lexer": "ipython3",
   "version": "3.8.8"
  },
  "orig_nbformat": 4
 },
 "nbformat": 4,
 "nbformat_minor": 2
}
