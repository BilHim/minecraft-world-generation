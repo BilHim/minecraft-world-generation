{
 "cells": [
  {
   "cell_type": "code",
   "execution_count": 3,
   "metadata": {},
   "outputs": [],
   "source": [
    "import numpy as np\n",
    "from PIL import Image, ImageDraw"
   ]
  },
  {
   "cell_type": "code",
   "execution_count": 12,
   "metadata": {},
   "outputs": [],
   "source": [
    "width, height = 3200, 1600\n",
    "p1 = [1000, 800]\n",
    "p2 = [2200, 800]\n",
    "\n",
    "points = np.array([p1, p2])"
   ]
  },
  {
   "cell_type": "code",
   "execution_count": 159,
   "metadata": {},
   "outputs": [],
   "source": [
    "def draw_point(p, s=30, fill=(100, 100, 100)):\n",
    "    circle_size = np.array([s, s])\n",
    "    p1 = p - circle_size/2\n",
    "    p2 = p + circle_size/2\n",
    "    draw.ellipse((*p1, *p2), fill=fill)\n",
    "\n",
    "def draw_line(p1, p2, fill=(255, 0, 0), width=10):\n",
    "    draw.line((*p1, *p2), fill=fill, width=width)"
   ]
  },
  {
   "cell_type": "code",
   "execution_count": 162,
   "metadata": {},
   "outputs": [],
   "source": [
    "im = Image.new('RGB', (width, height), (255, 255, 255))\n",
    "draw = ImageDraw.Draw(im)\n",
    "\n",
    "center = np.mean(points, axis=0)\n",
    "\n",
    "draw_point(center, s=600, fill=(255, 240, 220))\n",
    "draw_point(center, s=25, fill=(255, 0, 0))\n",
    "\n",
    "new_point = get_point(*points)\n",
    "\n",
    "draw_point(new_point, fill=(0, 0, 0))\n",
    "\n",
    "\n",
    "for i in range(len(points) - 1):\n",
    "    draw_line(points[i], points[i+1])\n",
    "\n",
    "for point in points:\n",
    "    draw_point(point, fill=(0, 0, 255))\n",
    " \n",
    "# draw_point(center, s=33, fill=(255, 100, 50))\n"
   ]
  },
  {
   "cell_type": "code",
   "execution_count": 163,
   "metadata": {},
   "outputs": [],
   "source": [
    "im = im.resize((800, 400), resample=Image.ANTIALIAS)\n",
    "im.save(\"figure_7/out.png\")"
   ]
  }
 ],
 "metadata": {
  "interpreter": {
   "hash": "3dfc80072e7d49307d6eca4bdfdfec1fdacb402a65d8ee3b3f38719db78321e3"
  },
  "kernelspec": {
   "display_name": "Python 3",
   "language": "python",
   "name": "python3"
  },
  "language_info": {
   "codemirror_mode": {
    "name": "ipython",
    "version": 3
   },
   "file_extension": ".py",
   "mimetype": "text/x-python",
   "name": "python",
   "nbconvert_exporter": "python",
   "pygments_lexer": "ipython3",
   "version": "3.8.8"
  }
 },
 "nbformat": 4,
 "nbformat_minor": 2
}
