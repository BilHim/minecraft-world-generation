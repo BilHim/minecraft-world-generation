{
 "cells": [
  {
   "cell_type": "code",
   "execution_count": 13,
   "source": [
    "from PIL import Image, ImageDraw\r\n",
    "from matplotlib import pyplot as plt\r\n",
    "import numpy as np\r\n",
    "from scipy.spatial import cKDTree"
   ],
   "outputs": [],
   "metadata": {}
  },
  {
   "cell_type": "code",
   "execution_count": 51,
   "source": [
    "from scipy.spatial import Voronoi\r\n",
    "from skimage.draw import polygon\r\n",
    "import random\r\n",
    "\r\n",
    "def voronoi(points, size):\r\n",
    "    # Add points at edges to eliminate infinite ridges\r\n",
    "    edge_points = size*np.array([[-1, -1], [-1, 2], [2, -1], [2, 2]])\r\n",
    "    new_points = np.vstack([points, edge_points])\r\n",
    "    \r\n",
    "    # Calculate Voronoi tessellation\r\n",
    "    vor = Voronoi(new_points)    \r\n",
    "    return vor"
   ],
   "outputs": [],
   "metadata": {}
  },
  {
   "cell_type": "code",
   "execution_count": 74,
   "source": [
    "width = height = size = 3600\r\n",
    "n = 384\r\n",
    "\r\n",
    "x = np.random.randint(0, width, (n,))\r\n",
    "y = np.random.randint(0, height, (n,))\r\n",
    "\r\n",
    "points = np.vstack([x, y]).T\r\n",
    "\r\n",
    "cyan = (12, 236, 221)\r\n",
    "yellow = (255, 243, 56)\r\n",
    "pink = (196, 0, 255)\r\n",
    "magenta = (255, 103, 231)"
   ],
   "outputs": [],
   "metadata": {}
  },
  {
   "cell_type": "code",
   "execution_count": 75,
   "source": [
    "new_points = points.copy()\r\n",
    "\r\n",
    "for k in range(100):\r\n",
    "    vor = voronoi(new_points, size)\r\n",
    "\r\n",
    "    im = Image.new('RGB', (width, height), (255, 255, 255))\r\n",
    "    draw = ImageDraw.Draw(im)\r\n",
    "\r\n",
    "    for i, point in enumerate(new_points):\r\n",
    "        circle_size = np.array([20, 20])\r\n",
    "        p1 = point - circle_size/2\r\n",
    "        p2 = point + circle_size/2\r\n",
    "        draw.ellipse((*p1, *p2), fill=(0, 0, 255))\r\n",
    "\r\n",
    "    new_points = []\r\n",
    "\r\n",
    "    for i, region in enumerate(vor.regions):\r\n",
    "        if len(region) == 0 or -1 in region: continue\r\n",
    "        poly = np.array([vor.vertices[i] for i in region])\r\n",
    "        \r\n",
    "        for i in range(len(poly)):\r\n",
    "            draw.line((*poly[-i], *poly[-i-1]), fill=(50, 50 ,50), width=5)\r\n",
    "\r\n",
    "        center = poly.mean(axis=0)\r\n",
    "        new_points.append(center)\r\n",
    "\r\n",
    "        circle_size = np.array([20, 20])\r\n",
    "        p1 = center - circle_size/2\r\n",
    "        p2 = center + circle_size/2\r\n",
    "        draw.ellipse((*p1, *p2), fill=(255, 0, 0))\r\n",
    "\r\n",
    "    new_points = np.array(new_points).clip(0, size)\r\n",
    "\r\n",
    "    im = im.crop((200, 1000, 3400, 2600))\r\n",
    "    im = im.resize((800, 400), resample=Image.ANTIALIAS)\r\n",
    "    im.save(f\"figure_4/out_{k}.png\")"
   ],
   "outputs": [],
   "metadata": {}
  },
  {
   "cell_type": "code",
   "execution_count": null,
   "source": [],
   "outputs": [],
   "metadata": {}
  }
 ],
 "metadata": {
  "orig_nbformat": 4,
  "language_info": {
   "name": "python",
   "version": "3.8.8",
   "mimetype": "text/x-python",
   "codemirror_mode": {
    "name": "ipython",
    "version": 3
   },
   "pygments_lexer": "ipython3",
   "nbconvert_exporter": "python",
   "file_extension": ".py"
  },
  "kernelspec": {
   "name": "python3",
   "display_name": "Python 3.8.8 64-bit ('base': conda)"
  },
  "interpreter": {
   "hash": "3dfc80072e7d49307d6eca4bdfdfec1fdacb402a65d8ee3b3f38719db78321e3"
  }
 },
 "nbformat": 4,
 "nbformat_minor": 2
}